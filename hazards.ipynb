{
 "cells": [
  {
   "cell_type": "markdown",
   "id": "9d694d85-185d-4742-bd5e-18b955de1e95",
   "metadata": {},
   "source": [
    "### Create file name\n",
    "### Get data\n",
    "\n",
    "### Hazards of interest\n",
    "### Air quality: Dust, Smoke, Fire\n",
    "- ABI-L2-ADPC - Advanced Baseline Imager Level 2 Aerosol Detection CONUS\n",
    "- ABI-L2-AODC - Advanced Baseline Imager Level 2 Aerosol Optical Depth CONUS\n",
    "- ABI-L2-FDCC - Advanced Baseline Imager Level 2 Fire (Hot Spot Characterization) CONUS\n",
    "\n",
    "### Lightning\n",
    "- GLM-L2-LCFA - Geostationary Lightning Mapper Level 2 Lightning Detection"
   ]
  },
  {
   "cell_type": "code",
   "execution_count": 1,
   "id": "8b41479d-18da-430f-a7de-d46cdb7df147",
   "metadata": {},
   "outputs": [],
   "source": [
    "import datetime\n",
    "from datetime import datetime\n",
    "from pathlib import Path\n",
    "import s3fs\n",
    "import xarray as xr\n",
    "import numpy as np\n",
    "import matplotlib as mpl\n",
    "from matplotlib import pyplot as plt\n",
    "import matplotlib.ticker as ticker\n",
    "from cartopy import crs as ccrs\n",
    "import cartopy.feature as cfeature\n",
    "from cartopy.mpl.ticker import LongitudeFormatter, LatitudeFormatter\n",
    "from PIL import Image"
   ]
  },
  {
   "cell_type": "code",
   "execution_count": 2,
   "id": "84ec1338-fb34-49e2-b141-66fbb8f9772a",
   "metadata": {},
   "outputs": [],
   "source": [
    "def current_date():\n",
    "    current_date = datetime.utcnow()\n",
    "    year = str(current_date.strftime('%Y'))\n",
    "    julian = str(current_date.strftime('%j')).zfill(3)\n",
    "    # prev_hour = str(int(current_date.strftime('%H')) - 1).zfill(2)\n",
    "    hour = str(current_date.strftime('%H')).zfill(2)\n",
    "    # minutes = str(current_date.strftime('%M')).zfill(2)\n",
    "    print(year, julian, hour)\n",
    "    return year, julian, hour"
   ]
  },
  {
   "cell_type": "code",
   "execution_count": 3,
   "id": "937fabe9-60fb-425e-9161-640ff71bc001",
   "metadata": {},
   "outputs": [],
   "source": [
    "def open_file_xarray(file):\n",
    "    remote_file = fs.open(file, mode = 'rb')\n",
    "    return xr.open_dataset(remote_file, engine = 'h5netcdf')"
   ]
  },
  {
   "cell_type": "code",
   "execution_count": 4,
   "id": "850d598e-d5eb-4741-8af6-c4858cbc031a",
   "metadata": {},
   "outputs": [],
   "source": [
    "# Process ABI ADP smoke/dust detection (baseline algorithm)\n",
    "def process_abi_adp_detection(ds):\n",
    "\n",
    "    # Convert xarray Data Arrays to NumPy masked arrays w/correct dtype\n",
    "    # Select \"smoke present\" (Smoke = 1) and \"dust present\" (Dust = 1) pixels\n",
    "    smoke_detection = ds.Smoke.where(ds.Smoke == 1).to_masked_array().astype('uint8')\n",
    "    dust_detection = ds.Dust.where(ds.Dust == 1).to_masked_array().astype('uint8')\n",
    "    dqf = ds.DQF.to_masked_array().astype('uint16')\n",
    "\n",
    "    # Process \"Smoke\" and \"Dust\" pixels using \"DQF\" variable flags\n",
    "    # Select dust pixels outside of sun-glint areas using \"DQF\" bit 6\n",
    "    # Flag values: outside sun-glint = 0, within sun-glint = 64\n",
    "    dust_detection = np.ma.masked_where(dqf & 64 == 64, dust_detection)\n",
    "    # Select smoke & dust pixels within valid SZA/VZA using \"DQF\" bit 7\n",
    "    # Flag values: within valid SZA/VZA = 0, outside of valid SZA/VZA = 128\n",
    "    smoke_detection = np.ma.masked_where(dqf & 128 == 128, smoke_detection)\n",
    "    dust_detection = np.ma.masked_where(dqf & 128 == 128, dust_detection)\n",
    "\n",
    "    return smoke_detection, dust_detection"
   ]
  },
  {
   "cell_type": "code",
   "execution_count": 5,
   "id": "6a26fcec-0087-460a-b75d-013c3fbaa57e",
   "metadata": {},
   "outputs": [],
   "source": [
    "# Calculate latitude & longitude from GOES ABI fixed grid projection (using xarray)\n",
    "def calculate_abi_lat_lon(ds):\n",
    "    \n",
    "    # Read in GOES ABI fixed grid projection variables and constants\n",
    "    x_coordinate_1d = ds.x  # E/W scanning angle in radians\n",
    "    y_coordinate_1d = ds.y  # N/S elevation angle in radians\n",
    "    projection_info = ds.goes_imager_projection  # ABI fixed grid contstants\n",
    "    lon_origin = projection_info.longitude_of_projection_origin\n",
    "    H = projection_info.perspective_point_height+projection_info.semi_major_axis\n",
    "    r_eq = projection_info.semi_major_axis\n",
    "    r_pol = projection_info.semi_minor_axis\n",
    "    \n",
    "    # Create 2D coordinate matrices from 1D coordinate vectors\n",
    "    x_coordinate_2d, y_coordinate_2d = np.meshgrid(x_coordinate_1d, y_coordinate_1d)\n",
    "    \n",
    "    # Equations to calculate latitude and longitude\n",
    "    lambda_0 = (lon_origin*np.pi)/180.0  \n",
    "    a_var = np.power(np.sin(x_coordinate_2d),2.0) + (np.power(np.cos(x_coordinate_2d),2.0)*(np.power(np.cos(y_coordinate_2d),2.0)+(((r_eq*r_eq)/(r_pol*r_pol))*np.power(np.sin(y_coordinate_2d),2.0))))\n",
    "    b_var = -2.0*H*np.cos(x_coordinate_2d)*np.cos(y_coordinate_2d)\n",
    "    c_var = (H**2.0)-(r_eq**2.0)\n",
    "    r_s = (-1.0*b_var - np.sqrt((b_var**2)-(4.0*a_var*c_var)))/(2.0*a_var)\n",
    "    s_x = r_s*np.cos(x_coordinate_2d)*np.cos(y_coordinate_2d)\n",
    "    s_y = - r_s*np.sin(x_coordinate_2d)\n",
    "    s_z = r_s*np.cos(x_coordinate_2d)*np.sin(y_coordinate_2d)\n",
    "    \n",
    "    lat = (180.0/np.pi)*(np.arctan(((r_eq*r_eq)/(r_pol*r_pol))*((s_z/np.sqrt(((H-s_x)*(H-s_x))+(s_y*s_y))))))\n",
    "    lon = (lambda_0 - np.arctan(s_y/(H-s_x)))*(180.0/np.pi)\n",
    "\n",
    "    lon = np.nan_to_num(lon, nan = -999.99)\n",
    "    lat = np.nan_to_num(lat, nan = -999.99)\n",
    "    return lat, lon"
   ]
  },
  {
   "cell_type": "code",
   "execution_count": 6,
   "id": "33b96828-2caa-4fac-8885-152262dd7270",
   "metadata": {},
   "outputs": [
    {
     "name": "stdout",
     "output_type": "stream",
     "text": [
      "2023 294 13\n"
     ]
    }
   ],
   "source": [
    "year, julian, hour = current_date()\n",
    "\n",
    "fs = s3fs.S3FileSystem(anon=True)\n",
    "\n",
    "# noaa-goes17, noaa-goes18\n",
    "bucket = 'noaa-goes16'  "
   ]
  },
  {
   "cell_type": "code",
   "execution_count": 7,
   "id": "a2a3ff16-8589-43d1-8b28-d3000fa8a965",
   "metadata": {},
   "outputs": [
    {
     "name": "stdout",
     "output_type": "stream",
     "text": [
      "noaa-goes16/ABI-L2-ADPC/2023/294/13/OR_ABI-L2-ADPC-M6_G16_s20232941301173_e20232941303546_c20232941304525.nc\n"
     ]
    },
    {
     "name": "stderr",
     "output_type": "stream",
     "text": [
      "/tmp/ipykernel_378/2297601066.py:21: RuntimeWarning: invalid value encountered in sqrt\n",
      "  r_s = (-1.0*b_var - np.sqrt((b_var**2)-(4.0*a_var*c_var)))/(2.0*a_var)\n"
     ]
    },
    {
     "name": "stdout",
     "output_type": "stream",
     "text": [
      "noaa-goes16/ABI-L2-FDCC/2023/294/13/OR_ABI-L2-FDCC-M6_G16_s20232941301173_e20232941303546_c20232941304124.nc\n",
      "noaa-goes16/GLM-L2-LCFA/2023/294/13/OR_GLM-L2-LCFA_G16_s20232941300000_e20232941300200_c20232941300213.nc\n"
     ]
    }
   ],
   "source": [
    "# Products\n",
    "products = {'adpc': 'ABI-L2-ADPC', 'aodc': 'ABI-L2-AODC', 'fdcc': 'ABI-L2-FDCC', 'glm': 'GLM-L2-LCFA'}\n",
    "\n",
    "# adpc\n",
    "# data_path_prev = bucket + '/' + product + '/'  + year + '/' + julian + '/' + prev_hour\n",
    "adpc_data = bucket + '/' + products['adpc'] + '/'  + year + '/' + julian + '/' + hour \n",
    "adpc_files = fs.ls(adpc_data)\n",
    "print(adpc_files[0])\n",
    "adpc_ds = open_file_xarray(adpc_files[0])\n",
    "\n",
    "# Calculate latitude and longitude using function defined previously\n",
    "lat, lon = calculate_abi_lat_lon(adpc_ds)\n",
    "\n",
    "# Process ADP smoke and dust detection using function defined previously\n",
    "smoke_detection, dust_detection = process_abi_adp_detection(adpc_ds)\n",
    "\n",
    "\n",
    "# fdcc\n",
    "fdcc_data = bucket + '/' + products['fdcc'] + '/'  + year + '/' + julian + '/' + hour \n",
    "fdcc_files = fs.ls(fdcc_data)\n",
    "print(fdcc_files[0])\n",
    "fdcc_ds = open_file_xarray(fdcc_files[0])\n",
    "frp = fdcc_ds.Power\n",
    "\n",
    "# glm\n",
    "glm_data = bucket + '/' + products['glm'] + '/'  + year + '/' + julian + '/' + hour \n",
    "glm_files = fs.ls(glm_data)\n",
    "print(glm_files[0])\n",
    "glm_ds = open_file_xarray(glm_files[0])\n",
    "\n",
    "# Create arrays of the flash lat and lons in order to plot flash points\n",
    "flash_lat = glm_ds.variables['flash_lat'][:]\n",
    "flash_lon = glm_ds.variables['flash_lon'][:]\n",
    "# Create arrays of the flash area and energy, and get the time variable from the .nc file attributes\n",
    "flash_area = glm_ds.variables['flash_area'][:]\n",
    "flash_energy = glm_ds.variables['flash_energy'][:]"
   ]
  },
  {
   "cell_type": "code",
   "execution_count": 8,
   "id": "22c785c0-34a0-4a70-a00c-b77c54518257",
   "metadata": {},
   "outputs": [],
   "source": [
    "# projection\n",
    "\n",
    "projection_variables = adpc_ds.goes_imager_projection\n",
    "satellite_height = projection_variables.perspective_point_height\n",
    "semi_major_axis = projection_variables.semi_major_axis\n",
    "semi_minor_axis = projection_variables.semi_minor_axis\n",
    "central_longitude = projection_variables.longitude_of_projection_origin\n",
    "\n",
    "globe = ccrs.Globe(semimajor_axis = semi_major_axis, semiminor_axis = semi_minor_axis)\n",
    "geo_projection = ccrs.Geostationary(central_longitude = central_longitude, satellite_height = satellite_height,\n",
    "                                    globe = globe, sweep_axis = 'x')"
   ]
  },
  {
   "cell_type": "code",
   "execution_count": null,
   "id": "54186cb7-5e2b-4667-b1b7-9b54c2d74ac6",
   "metadata": {},
   "outputs": [],
   "source": [
    "# Set up figure in matplotlib\n",
    "fig = plt.figure(figsize=(10, 10), dpi = 200)\n",
    "\n",
    "# Set map projection using native geostationary map projection defined previously\n",
    "ax = plt.axes(projection=geo_projection)\n",
    "\n",
    "# Format lat/lon gridlines & labels using cartopy\n",
    "gl = ax.gridlines(draw_labels=True, linewidth=0.25, color='silver', zorder=3)\n",
    "gl.right_labels = None\n",
    "gl.top_labels = None\n",
    "gl.ypadding = 5\n",
    "gl.xpadding = 5\n",
    "gl.xlabel_style = {'size': 8}\n",
    "gl.ylabel_style = {'size': 8}\n",
    "gl.xformatter = LongitudeFormatter()\n",
    "gl.yformatter = LatitudeFormatter()\n",
    "\n",
    "# Add coastlines & borders (1:50m medium resolution)\n",
    "# \"zorder\" argument sets order for plotting layers (larger zorder plots over smaller zorder); default zorder=1.5 \n",
    "ax.add_feature(cfeature.NaturalEarthFeature(category='cultural', \n",
    "                                            name='admin_0_countries', \n",
    "                                            scale='50m'), \n",
    "               linewidth=0.75, facecolor='none', edgecolor='k', zorder=3)\n",
    "ax.add_feature(cfeature.NaturalEarthFeature(category='cultural', \n",
    "                                            name='admin_1_states_provinces', \n",
    "                                            scale='50m'), \n",
    "               linewidth=0.5, facecolor='none', edgecolor='k', zorder=3)\n",
    "ax.add_feature(cfeature.NaturalEarthFeature(category='physical', \n",
    "                                            name='ocean', \n",
    "                                            scale='50m'), \n",
    "               facecolor='cyan')\n",
    "ax.add_feature(cfeature.NaturalEarthFeature(category='physical', \n",
    "                                            name='land', \n",
    "                                            scale='50m'), \n",
    "               facecolor='lightgreen')\n",
    "\n",
    "\n",
    "box_array = [-120,-70,25,55]\n",
    "ax.set_extent(box_array, ccrs.PlateCarree())\n",
    "\n",
    "# Set colormaps for smoke and dust\n",
    "cmap1 = mpl.colors.ListedColormap(['deeppink'])\n",
    "cmap2 = mpl.colors.ListedColormap(['yellow'])\n",
    "cmap3 = mpl.colors.ListedColormap(['orange'])\n",
    "cmap4 = mpl.colors.ListedColormap(['grey'])\n",
    "\n",
    "# Plot ADP smoke and dust detection\n",
    "plot1 = ax.pcolormesh(lon, lat, smoke_detection, cmap = cmap1, transform = ccrs.PlateCarree(), zorder = 2)\n",
    "plot2 = ax.pcolormesh(lon, lat, dust_detection, cmap = cmap2, transform = ccrs.PlateCarree(), zorder = 2)\n",
    "plot3 = ax.pcolormesh(lon, lat, frp, cmap = cmap3)\n",
    "plot4 = ax.hexbin(flash_lon, flash_lat, gridsize = 500, bins='log',transform = ccrs.PlateCarree(), cmap = cmap4, vmin = 1, vmax = 30, zorder = 2)\n",
    "\n",
    "# Add smoke detection colorbar\n",
    "cb1_ax = ax.inset_axes([0.05, -0.1, 0.15, 0.03])\n",
    "cb1 = mpl.colorbar.ColorbarBase(cb1_ax, cmap=cmap1, orientation='horizontal')\n",
    "cb1.set_label(label='Smoke', size=8, weight='bold')\n",
    "cb1.ax.xaxis.set_major_formatter(ticker.NullFormatter())\n",
    "cb1.ax.tick_params(which='major', length=0)\n",
    "\n",
    "# Add dust detection colorbar\n",
    "cb2_ax = ax.inset_axes([0.3, -0.1, 0.15, 0.03])\n",
    "cb2 = mpl.colorbar.ColorbarBase(cb2_ax, cmap=cmap2, orientation='horizontal')\n",
    "cb2.set_label(label='Dust', size=8, weight='bold')\n",
    "cb2.ax.xaxis.set_major_formatter(ticker.NullFormatter())\n",
    "cb2.ax.tick_params(which='major', length=0)\n",
    "\n",
    "# fire\n",
    "cb3_ax = ax.inset_axes([0.55, -0.1, 0.15, 0.03])\n",
    "cb3 = mpl.colorbar.ColorbarBase(cb3_ax, cmap=cmap3, orientation='horizontal')\n",
    "cb3.set_label(label='Fire', size=8, weight='bold')\n",
    "cb3.ax.xaxis.set_major_formatter(ticker.NullFormatter())\n",
    "cb3.ax.tick_params(which='major', length=0)\n",
    "\n",
    "# lightning\n",
    "cb4_ax = ax.inset_axes([0.8, -0.1, 0.15, 0.03])\n",
    "cb4 = mpl.colorbar.ColorbarBase(cb4_ax, cmap=cmap4, orientation='horizontal')\n",
    "cb4.set_label(label='Lightning', size=8, weight='bold')\n",
    "cb4.ax.xaxis.set_major_formatter(ticker.NullFormatter())\n",
    "cb4.ax.tick_params(which='major', length=0)\n",
    "\n",
    "plt.show()"
   ]
  },
  {
   "cell_type": "code",
   "execution_count": null,
   "id": "681d88f9-1d0c-43b4-8423-6a7be71d3d4d",
   "metadata": {},
   "outputs": [],
   "source": []
  }
 ],
 "metadata": {
  "kernelspec": {
   "display_name": "datajam",
   "language": "python",
   "name": "datajam"
  },
  "language_info": {
   "codemirror_mode": {
    "name": "ipython",
    "version": 3
   },
   "file_extension": ".py",
   "mimetype": "text/x-python",
   "name": "python",
   "nbconvert_exporter": "python",
   "pygments_lexer": "ipython3",
   "version": "3.9.18"
  }
 },
 "nbformat": 4,
 "nbformat_minor": 5
}
